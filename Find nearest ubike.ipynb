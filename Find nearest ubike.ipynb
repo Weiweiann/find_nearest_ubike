{
 "cells": [
  {
   "cell_type": "markdown",
   "metadata": {},
   "source": [
    "# Ubike api content description\n",
    "\n",
    "http://data.taipei/opendata/datalist/datasetMeta?oid=8ef1626a-892a-4218-8344-f7ac46e1aa48\n",
    "\n",
    "- sno：站點代號\n",
    "- sna：場站名稱(中文)\n",
    "- tot：場站總停車格\n",
    "- sbi：場站目前車輛數量\n",
    "- sarea：場站區域(中文)\n",
    "- mday：資料更新時間\n",
    "- lat：緯度\n",
    "- lng：經度\n",
    "- ar：地(中文)\n",
    "- sareaen：場站區域(英文)\n",
    "- snaen：場站名稱(英文)\n",
    "- aren：地址(英文)\n",
    "- bemp：空位數量\n",
    "- act：全站禁用狀態"
   ]
  },
  {
   "cell_type": "code",
   "execution_count": 144,
   "metadata": {
    "collapsed": true
   },
   "outputs": [],
   "source": [
    "import requests\n",
    "from math import sqrt\n",
    "from urllib.parse import parse_qsl"
   ]
  },
  {
   "cell_type": "code",
   "execution_count": 135,
   "metadata": {
    "collapsed": true
   },
   "outputs": [],
   "source": [
    "lat, lng = (24.988454, 121.544298)"
   ]
  },
  {
   "cell_type": "code",
   "execution_count": 73,
   "metadata": {
    "collapsed": false
   },
   "outputs": [],
   "source": [
    "# get data from google geo api,\n",
    "\n",
    "        \n",
    "    \n",
    "    def get_user_location(lat, lng):\n",
    "        google_geo_api = 'http://maps.google.com/maps/api/geocode/json?latlng={},{}&language=zh-TW&sensor=true'.format(lat, lng)\n",
    "        data = requests.get(google_geo_api)\n",
    "        address_components = data.json()['results'][0]['address_components']\n",
    "        print(address_components)\n",
    "        user_location = 'undefined'\n",
    "        for comp in address_components:\n",
    "            if comp['types'][0] == 'administrative_area_level_1':\n",
    "                user_location = comp['long_name']\n",
    "                print(user_location)\n",
    "                break\n",
    "            elif comp['types'][0] == 'administrative_area_level_2':\n",
    "                user_location = comp['long_name']\n",
    "                print(user_location)\n",
    "                break\n",
    "        return user_location\n",
    "\n",
    "    def num2str(value):\n",
    "        str_num = str(value)\n",
    "        if len(str_num) <= 4:\n",
    "            return '0' * (4 - len(str_num)) + str_num\n",
    "        return str_num\n",
    "\n",
    "    def find_nearest_two_stop(lat, lng):\n",
    "        \"\"\"\n",
    "        return two nearest stop with given lat and lng\n",
    "        \"\"\"\n",
    "\n",
    "        # get data from data.taipei\n",
    "        gz_data = requests.get('http://data.taipei/youbike')\n",
    "        json_data = gz_data.json()\n",
    "\n",
    "        # get all stop location\n",
    "        ubike_locations = []\n",
    "        for loc in json_data['retVal'].values():\n",
    "            stop_info = dict(loc)\n",
    "            ubike_locations.append({'lat': stop_info['lat'], 'lng': stop_info['lng']})\n",
    "\n",
    "        # calculate all the distance between user location and stops\n",
    "        dist_map = []\n",
    "        for num, loc in enumerate(ubike_locations):\n",
    "            stop_lat = float(loc['lat'])\n",
    "            stop_lng = float(loc['lng'])\n",
    "            dist = sqrt((lat - stop_lat) ** 2 + (lng - stop_lng) ** 2)\n",
    "            dist_map.append({'dist': dist, 'stop_index': num2str(num + 1)}) # enumerate counts from 0\n",
    "\n",
    "        sorted_dist_map = sorted(dist_map, key=lambda x: x['dist'])\n",
    "\n",
    "        # the nearest two stop\n",
    "        nearest_two_stop = sorted_dist_map[0:2]\n",
    "        results = []\n",
    "        for stop in nearest_two_stop:\n",
    "            result = {}\n",
    "            result['station'] = json_data['retVal'][stop['stop_index']]['sna']\n",
    "            result['num_ubike'] = json_data['retVal'][stop['stop_index']]['sbi']\n",
    "            results.append(result)\n",
    "\n",
    "        return results\n"
   ]
  },
  {
   "cell_type": "code",
   "execution_count": 143,
   "metadata": {
    "collapsed": false
   },
   "outputs": [
    {
     "data": {
      "text/plain": [
       "[{'num_ubike': '5', 'station': '考試院'}, {'num_ubike': '17', 'station': '捷運景美站'}]"
      ]
     },
     "execution_count": 143,
     "metadata": {},
     "output_type": "execute_result"
    }
   ],
   "source": [
    "find_nearest_two_stop(lat,lng)"
   ]
  },
  {
   "cell_type": "code",
   "execution_count": null,
   "metadata": {
    "collapsed": true
   },
   "outputs": [],
   "source": []
  },
  {
   "cell_type": "code",
   "execution_count": 76,
   "metadata": {
    "collapsed": true
   },
   "outputs": [],
   "source": [
    "lat, lng = (24.416703, 121.596021)"
   ]
  },
  {
   "cell_type": "code",
   "execution_count": 77,
   "metadata": {
    "collapsed": false
   },
   "outputs": [
    {
     "name": "stdout",
     "output_type": "stream",
     "text": [
      "[{'long_name': '平元林道', 'short_name': '平元林道', 'types': ['route']}, {'long_name': '金洋村', 'short_name': '金洋村', 'types': ['administrative_area_level_4', 'political']}, {'long_name': '南澳鄉', 'short_name': '南澳鄉', 'types': ['administrative_area_level_3', 'political']}, {'long_name': '宜蘭縣', 'short_name': '宜蘭縣', 'types': ['administrative_area_level_2', 'political']}, {'long_name': '台灣', 'short_name': 'TW', 'types': ['country', 'political']}, {'long_name': '272', 'short_name': '272', 'types': ['postal_code']}]\n",
      "宜蘭縣\n"
     ]
    },
    {
     "data": {
      "text/plain": [
       "'宜蘭縣'"
      ]
     },
     "execution_count": 77,
     "metadata": {},
     "output_type": "execute_result"
    }
   ],
   "source": [
    "get_user_location(lat,lng)"
   ]
  },
  {
   "cell_type": "code",
   "execution_count": null,
   "metadata": {
    "collapsed": true
   },
   "outputs": [],
   "source": []
  }
 ],
 "metadata": {
  "kernelspec": {
   "display_name": "Python 3",
   "language": "python",
   "name": "python3"
  },
  "language_info": {
   "codemirror_mode": {
    "name": "ipython",
    "version": 3
   },
   "file_extension": ".py",
   "mimetype": "text/x-python",
   "name": "python",
   "nbconvert_exporter": "python",
   "pygments_lexer": "ipython3",
   "version": "3.6.0"
  }
 },
 "nbformat": 4,
 "nbformat_minor": 2
}
